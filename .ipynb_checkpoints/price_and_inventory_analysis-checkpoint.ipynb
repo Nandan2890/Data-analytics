{
 "cells": [
  {
   "cell_type": "code",
   "execution_count": 3,
   "id": "88d0ec9e-3c8d-4688-b646-f101bfdc67e9",
   "metadata": {},
   "outputs": [
    {
     "name": "stdout",
     "output_type": "stream",
     "text": [
      "Connected to Elasticsearch\n",
      "{'cluster_name': 'docker-cluster',\n",
      " 'cluster_uuid': 'nv4JrjX8SLeHDApMSiNUPA',\n",
      " 'name': '98617b9485a1',\n",
      " 'tagline': 'You Know, for Search',\n",
      " 'version': {'build_date': '2024-09-02T22:04:47.310170297Z',\n",
      "             'build_flavor': 'default',\n",
      "             'build_hash': '253e8544a65ad44581194068936f2a5d57c2c051',\n",
      "             'build_snapshot': False,\n",
      "             'build_type': 'docker',\n",
      "             'lucene_version': '9.11.1',\n",
      "             'minimum_index_compatibility_version': '7.0.0',\n",
      "             'minimum_wire_compatibility_version': '7.17.0',\n",
      "             'number': '8.15.1'}}\n"
     ]
    }
   ],
   "source": [
    "from pprint import pprint\n",
    "from elasticsearch import Elasticsearch\n",
    "import pandas as pd\n",
    "\n",
    "es = Elasticsearch(\"http://localhost:9200\")\n",
    "client_info = es.info()\n",
    "print(\"Connected to Elasticsearch\")\n",
    "pprint(client_info.body)"
   ]
  },
  {
   "cell_type": "markdown",
   "id": "757e7b29-2b6f-4e00-8e59-0f0b7219ec0b",
   "metadata": {},
   "source": [
    "### Price Distribution Across Categories"
   ]
  },
  {
   "cell_type": "code",
   "execution_count": 5,
   "id": "7ec1f137-0441-42c6-a994-dbf94c515da0",
   "metadata": {},
   "outputs": [],
   "source": [
    "price_distribution_query = {\n",
    "    \"size\": 0,\n",
    "    \"aggs\": {\n",
    "        \"categories\": {\n",
    "            \"terms\": {\"field\": \"category.keyword\"},\n",
    "            \"aggs\": {\n",
    "                \"avg_price\": {\"avg\": {\"field\": \"price\"}}\n",
    "            }\n",
    "        }\n",
    "    }\n",
    "}"
   ]
  },
  {
   "cell_type": "code",
   "execution_count": 7,
   "id": "834945ee-e271-44f6-adb6-f9f1d395cf62",
   "metadata": {},
   "outputs": [
    {
     "name": "stdout",
     "output_type": "stream",
     "text": [
      "[{'Avg Price': 332.4983317057292, 'Category': 'electronics'},\n",
      " {'Avg Price': 26.286667346954346, 'Category': \"women's clothing\"},\n",
      " {'Avg Price': 220.99499988555908, 'Category': 'jewelery'},\n",
      " {'Avg Price': 51.057499408721924, 'Category': \"men's clothing\"}]\n"
     ]
    }
   ],
   "source": [
    "response = es.search(index=\"fakestore\", body=price_distribution_query)\n",
    "\n",
    "# pprint(response)\n",
    "#Extract data\n",
    "price_distribution = [\n",
    "    {\"Category\": bucket[\"key\"], \"Avg Price\": bucket[\"avg_price\"][\"value\"]}\n",
    "\n",
    "    for bucket in response[\"aggregations\"][\"categories\"][\"buckets\"]\n",
    "]\n",
    "\n",
    "pprint(price_distribution)"
   ]
  },
  {
   "cell_type": "code",
   "execution_count": 8,
   "id": "2fb2497d-47ec-493a-b49b-de01c298de39",
   "metadata": {},
   "outputs": [
    {
     "name": "stdout",
     "output_type": "stream",
     "text": [
      "\n",
      " Price Distribution Across Categories\n",
      "           Category   Avg Price\n",
      "0       electronics  332.498332\n",
      "1  women's clothing   26.286667\n",
      "2          jewelery  220.995000\n",
      "3    men's clothing   51.057499\n"
     ]
    }
   ],
   "source": [
    "# convert to dataframe\n",
    "df_price_distribution = pd.DataFrame(price_distribution)\n",
    "print(\"\\n Price Distribution Across Categories\")\n",
    "print(df_price_distribution)"
   ]
  },
  {
   "cell_type": "markdown",
   "id": "03a2025e-3c92-48b6-abba-dbdb09f839cf",
   "metadata": {},
   "source": [
    "### Most Expensive Vs. Cheapest Products"
   ]
  },
  {
   "cell_type": "code",
   "execution_count": 10,
   "id": "9190a573-6b98-475d-b851-fba36941477b",
   "metadata": {},
   "outputs": [
    {
     "name": "stdout",
     "output_type": "stream",
     "text": [
      "{'query': {'exists': {'field': 'price'}},\n",
      " 'size': 2,\n",
      " 'sort': [{'price': {'order': 'desc'}}, {'price': {'order': 'asc'}}]}\n"
     ]
    }
   ],
   "source": [
    "# Query to find the most expensive and cheapest products\n",
    "extreme_prices_query = {\n",
    "    \"size\": 2, #Get top 1 highest and 1 lowest price\n",
    "    \"query\": {\"exists\": {\"field\": \"price\"}}, # Ensure price field exists\n",
    "    \"sort\": [{\"price\": {\"order\": \"desc\"}}, {\"price\": {\"order\": \"asc\"}}] #sort by price\n",
    "}\n",
    "\n",
    "pprint(extreme_prices_query)"
   ]
  },
  {
   "cell_type": "code",
   "execution_count": 12,
   "id": "83326cd1-0228-48f3-9f16-ccc7d12fdc3a",
   "metadata": {},
   "outputs": [],
   "source": [
    "#Execute query\n",
    "response = es.search(index=\"fakestore\", body=extreme_prices_query)\n",
    "\n",
    "# pprint(response)"
   ]
  },
  {
   "cell_type": "code",
   "execution_count": 13,
   "id": "1588dd5f-224e-4e21-9d6f-f351100ac73a",
   "metadata": {},
   "outputs": [
    {
     "name": "stdout",
     "output_type": "stream",
     "text": [
      "[{'Price': 999.99,\n",
      "  'Product': 'Samsung 49-Inch CHG90 144Hz Curved Gaming Monitor '\n",
      "             '(LC49HG90DMNXZA) – Super Ultrawide Screen QLED '},\n",
      " {'Price': 695,\n",
      "  'Product': \"John Hardy Women's Legends Naga Gold & Silver Dragon Station \"\n",
      "             'Chain Bracelet'}]\n"
     ]
    }
   ],
   "source": [
    "# Extract Data\n",
    "extreme_prices = [\n",
    "    {\"Product\": hit[\"_source\"][\"title\"], \"Price\": hit[\"_source\"][\"price\"]}\n",
    "\n",
    "    for hit in response[\"hits\"][\"hits\"]\n",
    "]\n",
    "\n",
    "pprint(extreme_prices)"
   ]
  },
  {
   "cell_type": "code",
   "execution_count": 14,
   "id": "dd08c3c6-b361-4f54-8c34-3c2bd024333b",
   "metadata": {},
   "outputs": [
    {
     "name": "stdout",
     "output_type": "stream",
     "text": [
      "\n",
      " Most Expensive & Cheapest Products.\n",
      "                                             Product   Price\n",
      "0  Samsung 49-Inch CHG90 144Hz Curved Gaming Moni...  999.99\n",
      "1  John Hardy Women's Legends Naga Gold & Silver ...  695.00\n"
     ]
    }
   ],
   "source": [
    "#Convert to dataFrame\n",
    "df_extreme_prices = pd.DataFrame(extreme_prices)\n",
    "print(\"\\n Most Expensive & Cheapest Products.\")\n",
    "print(df_extreme_prices)"
   ]
  },
  {
   "cell_type": "markdown",
   "id": "ff657450-944f-46f8-ba32-6086210e61fa",
   "metadata": {},
   "source": [
    "### 3. Product Density in Price Ranges\n"
   ]
  },
  {
   "cell_type": "code",
   "execution_count": 15,
   "id": "d16a6291-be34-467e-9dca-c578c1587d27",
   "metadata": {},
   "outputs": [],
   "source": [
    "# query to group products into price ranges\n",
    "price_density_query = {\n",
    "    \"size\": 0,\n",
    "    \"aggs\": {\n",
    "        \"price_ranges\": {\n",
    "            \"histogram\": {\n",
    "                \"field\": \"price\",\n",
    "                \"interval\": 50  \n",
    "            }\n",
    "        }\n",
    "    }\n",
    "}"
   ]
  },
  {
   "cell_type": "code",
   "execution_count": 16,
   "id": "ee772035-6a3d-4110-9579-c54c0dce44b1",
   "metadata": {},
   "outputs": [],
   "source": [
    "response = es.search(index=\"fakestore\", body=price_density_query)"
   ]
  },
  {
   "cell_type": "code",
   "execution_count": 17,
   "id": "b87e7b39-2789-4c15-8f7e-0ca95012f729",
   "metadata": {},
   "outputs": [
    {
     "name": "stdout",
     "output_type": "stream",
     "text": [
      "[{'Price Range': 0.0, 'Product Count': 9},\n",
      " {'Price Range': 50.0, 'Product Count': 3},\n",
      " {'Price Range': 100.0, 'Product Count': 4},\n",
      " {'Price Range': 150.0, 'Product Count': 1},\n",
      " {'Price Range': 200.0, 'Product Count': 0},\n",
      " {'Price Range': 250.0, 'Product Count': 0},\n",
      " {'Price Range': 300.0, 'Product Count': 0},\n",
      " {'Price Range': 350.0, 'Product Count': 0},\n",
      " {'Price Range': 400.0, 'Product Count': 0},\n",
      " {'Price Range': 450.0, 'Product Count': 0},\n",
      " {'Price Range': 500.0, 'Product Count': 0},\n",
      " {'Price Range': 550.0, 'Product Count': 1},\n",
      " {'Price Range': 600.0, 'Product Count': 0},\n",
      " {'Price Range': 650.0, 'Product Count': 1},\n",
      " {'Price Range': 700.0, 'Product Count': 0},\n",
      " {'Price Range': 750.0, 'Product Count': 0},\n",
      " {'Price Range': 800.0, 'Product Count': 0},\n",
      " {'Price Range': 850.0, 'Product Count': 0},\n",
      " {'Price Range': 900.0, 'Product Count': 0},\n",
      " {'Price Range': 950.0, 'Product Count': 1}]\n"
     ]
    }
   ],
   "source": [
    "#extract data\n",
    "price_density = [\n",
    "    {\"Price Range\": bucket[\"key\"], \"Product Count\": bucket[\"doc_count\"]}\n",
    "\n",
    "    for bucket in response[\"aggregations\"][\"price_ranges\"][\"buckets\"]\n",
    "]\n",
    "\n",
    "pprint(price_density)"
   ]
  },
  {
   "cell_type": "code",
   "execution_count": 18,
   "id": "04b92dd8-d56e-45ed-9efe-05f6941a40f6",
   "metadata": {},
   "outputs": [
    {
     "name": "stdout",
     "output_type": "stream",
     "text": [
      "\n",
      " Product Density in Price Ranges\n",
      "    Price Range  Product Count\n",
      "0           0.0              9\n",
      "1          50.0              3\n",
      "2         100.0              4\n",
      "3         150.0              1\n",
      "4         200.0              0\n",
      "5         250.0              0\n",
      "6         300.0              0\n",
      "7         350.0              0\n",
      "8         400.0              0\n",
      "9         450.0              0\n",
      "10        500.0              0\n",
      "11        550.0              1\n",
      "12        600.0              0\n",
      "13        650.0              1\n",
      "14        700.0              0\n",
      "15        750.0              0\n",
      "16        800.0              0\n",
      "17        850.0              0\n",
      "18        900.0              0\n",
      "19        950.0              1\n"
     ]
    }
   ],
   "source": [
    "# convert to dataFrame\n",
    "df_price_density = pd.DataFrame(price_density)\n",
    "print(\"\\n Product Density in Price Ranges\")\n",
    "print(df_price_density)"
   ]
  },
  {
   "cell_type": "code",
   "execution_count": null,
   "id": "2bf4d38b-46a5-4f3b-9841-772fae578454",
   "metadata": {},
   "outputs": [],
   "source": []
  }
 ],
 "metadata": {
  "kernelspec": {
   "display_name": "Python (FakeStoreEnv)",
   "language": "python",
   "name": "fakestore_env"
  },
  "language_info": {
   "codemirror_mode": {
    "name": "ipython",
    "version": 3
   },
   "file_extension": ".py",
   "mimetype": "text/x-python",
   "name": "python",
   "nbconvert_exporter": "python",
   "pygments_lexer": "ipython3",
   "version": "3.12.2"
  }
 },
 "nbformat": 4,
 "nbformat_minor": 5
}
