{
 "cells": [
  {
   "cell_type": "code",
   "execution_count": 3,
   "id": "0f8dc086-ca7f-4181-8e6f-2ea2aaa5583e",
   "metadata": {},
   "outputs": [
    {
     "name": "stdout",
     "output_type": "stream",
     "text": [
      "Connected to Elasticsearch\n",
      "{'cluster_name': 'docker-cluster',\n",
      " 'cluster_uuid': 'nv4JrjX8SLeHDApMSiNUPA',\n",
      " 'name': '98617b9485a1',\n",
      " 'tagline': 'You Know, for Search',\n",
      " 'version': {'build_date': '2024-09-02T22:04:47.310170297Z',\n",
      "             'build_flavor': 'default',\n",
      "             'build_hash': '253e8544a65ad44581194068936f2a5d57c2c051',\n",
      "             'build_snapshot': False,\n",
      "             'build_type': 'docker',\n",
      "             'lucene_version': '9.11.1',\n",
      "             'minimum_index_compatibility_version': '7.0.0',\n",
      "             'minimum_wire_compatibility_version': '7.17.0',\n",
      "             'number': '8.15.1'}}\n"
     ]
    }
   ],
   "source": [
    "from pprint import pprint\n",
    "from elasticsearch import Elasticsearch\n",
    "\n",
    "es = Elasticsearch(\"http://localhost:9200\")\n",
    "client_info = es.info()\n",
    "print(\"Connected to Elasticsearch\")\n",
    "pprint(client_info.body)"
   ]
  },
  {
   "cell_type": "markdown",
   "id": "d3d6e5a1-41e0-4cfd-90d1-9d44868e7e86",
   "metadata": {},
   "source": [
    "### Product popularity by review count\n",
    "- Find Products with the highest number of reviews\n",
    "\n",
    "#### Explanation\n",
    "- Sort products by ` reviw_count ` in descending order\n",
    "- Limit results to top 5 most-reviewed products"
   ]
  },
  {
   "cell_type": "code",
   "execution_count": 4,
   "id": "f3485fb8-32df-4afc-bb04-756a437375b5",
   "metadata": {},
   "outputs": [],
   "source": [
    "# Product populrity by review count\n",
    "product_popularity_query = {\n",
    "    \"size\": 5, # Get top 5 most-reviewd products\n",
    "    \"query\": {\n",
    "        \"exists\": {\"field\": \"review_count\"}  #ensure review count exists\n",
    "    },\n",
    "    \"sort\": [{\"review_count\": {\"order\": \"desc\"}}]\n",
    "}"
   ]
  },
  {
   "cell_type": "code",
   "execution_count": 6,
   "id": "16e8f4a9-3ad3-43b9-8591-8d1b140a7c3f",
   "metadata": {},
   "outputs": [
    {
     "name": "stdout",
     "output_type": "stream",
     "text": [
      "[{'Products': 'Rain Jacket Women Windbreaker Striped Climbing Raincoats',\n",
      "  'Reviews': 679},\n",
      " {'Products': 'Mens Cotton Jacket', 'Reviews': 500},\n",
      " {'Products': 'SanDisk SSD PLUS 1TB Internal SSD - SATA III 6 Gb/s',\n",
      "  'Reviews': 470},\n",
      " {'Products': 'Mens Casual Slim Fit', 'Reviews': 430},\n",
      " {'Products': \"John Hardy Women's Legends Naga Gold & Silver Dragon Station \"\n",
      "              'Chain Bracelet',\n",
      "  'Reviews': 400}]\n"
     ]
    }
   ],
   "source": [
    "#execute query\n",
    "\n",
    "response = es.search(index=\"fakestore\", body=product_popularity_query)\n",
    "\n",
    "#extract data from response\n",
    "popular_products = [\n",
    "    {\"Products\": hit[\"_source\"][\"title\"], \"Reviews\": hit[\"_source\"][\"review_count\"]}\n",
    "    for hit in response[\"hits\"][\"hits\"]\n",
    "]\n",
    "\n",
    "pprint(popular_products)"
   ]
  },
  {
   "cell_type": "code",
   "execution_count": 8,
   "id": "2a9904f2-1ec2-418c-93f3-4ddf446e3db2",
   "metadata": {},
   "outputs": [
    {
     "name": "stdout",
     "output_type": "stream",
     "text": [
      "\n",
      " Top 5 most reviewed products:\n",
      "                                            Products  Reviews\n",
      "0  Rain Jacket Women Windbreaker Striped Climbing...      679\n",
      "1                                 Mens Cotton Jacket      500\n",
      "2  SanDisk SSD PLUS 1TB Internal SSD - SATA III 6...      470\n",
      "3                               Mens Casual Slim Fit      430\n",
      "4  John Hardy Women's Legends Naga Gold & Silver ...      400\n"
     ]
    }
   ],
   "source": [
    "import pandas as pd\n",
    "\n",
    "df_popular = pd.DataFrame(popular_products)\n",
    "print(\"\\n Top 5 most reviewed products:\")\n",
    "print(df_popular)"
   ]
  },
  {
   "cell_type": "markdown",
   "id": "0fdeabb5-f4c1-4777-8e27-e4bf6f83544e",
   "metadata": {},
   "source": [
    "### Average Rating per category "
   ]
  },
  {
   "cell_type": "code",
   "execution_count": 9,
   "id": "c366076b-235d-4114-a067-c9ff58761b88",
   "metadata": {},
   "outputs": [],
   "source": [
    "avg_rating_query = {\n",
    "    \"size\": 0,\n",
    "    \"aggs\": {\n",
    "        \"avg_rating_per_category\": {\n",
    "            \"terms\": {\"field\": \"category.keyword\"},\n",
    "            \"aggs\": {\n",
    "                \"average_rating\": {\"avg\": {\"field\": \"rating\"}}\n",
    "            }\n",
    "        }\n",
    "    }\n",
    "}"
   ]
  },
  {
   "cell_type": "code",
   "execution_count": 10,
   "id": "5ca3f446-40cf-4bbf-b7fd-5dfff95ac695",
   "metadata": {},
   "outputs": [
    {
     "name": "stdout",
     "output_type": "stream",
     "text": [
      "[{'Avg Rating': 3.483333428700765, 'Category': 'electronics'},\n",
      " {'Avg Rating': 3.6833332777023315, 'Category': \"women's clothing\"},\n",
      " {'Avg Rating': 3.3499999940395355, 'Category': 'jewelery'},\n",
      " {'Avg Rating': 3.6999999284744263, 'Category': \"men's clothing\"}]\n"
     ]
    }
   ],
   "source": [
    "response = es.search(index=\"fakestore\", body=avg_rating_query)\n",
    "\n",
    "#extract data\n",
    "category_ratings = [\n",
    "    {\"Category\": bucket[\"key\"], \"Avg Rating\": bucket[\"average_rating\"][\"value\"]}\n",
    "\n",
    "    for bucket in response[\"aggregations\"][\"avg_rating_per_category\"][\"buckets\"]\n",
    "]\n",
    "\n",
    "pprint(category_ratings)"
   ]
  },
  {
   "cell_type": "code",
   "execution_count": 12,
   "id": "4e395d48-d0de-4df2-881d-ed6c6297a0b6",
   "metadata": {},
   "outputs": [
    {
     "name": "stdout",
     "output_type": "stream",
     "text": [
      "\n",
      " Average Rating per Category:\n",
      "           Category  Avg Rating\n",
      "0       electronics    3.483333\n",
      "1  women's clothing    3.683333\n",
      "2          jewelery    3.350000\n",
      "3    men's clothing    3.700000\n"
     ]
    }
   ],
   "source": [
    "#convert to dataframe and display\n",
    "df_avg_rating = pd.DataFrame(category_ratings)\n",
    "print(\"\\n Average Rating per Category:\")\n",
    "print(df_avg_rating)"
   ]
  },
  {
   "cell_type": "markdown",
   "id": "d8499893-bb2b-4b84-bc70-c184c86d807f",
   "metadata": {},
   "source": [
    "### Distribution of Ratings"
   ]
  },
  {
   "cell_type": "code",
   "execution_count": 13,
   "id": "8075c8d4-41fe-41a1-9f2e-5e084dba3f06",
   "metadata": {},
   "outputs": [],
   "source": [
    "rating_distribution_query = {\n",
    "    \"size\": 0,\n",
    "    \"aggs\": {\n",
    "        \"rating_distribution\": {\n",
    "            \"histogram\": {\n",
    "                \"field\": \"rating\",\n",
    "                \"interval\": 1\n",
    "            }\n",
    "        }\n",
    "    }\n",
    "}"
   ]
  },
  {
   "cell_type": "code",
   "execution_count": 14,
   "id": "8d560f24-e85f-4cea-9b0d-838811a72d24",
   "metadata": {},
   "outputs": [
    {
     "name": "stdout",
     "output_type": "stream",
     "text": [
      "[{'Count': 1, 'Rating': 1.0},\n",
      " {'Count': 6, 'Rating': 2.0},\n",
      " {'Count': 6, 'Rating': 3.0},\n",
      " {'Count': 7, 'Rating': 4.0}]\n"
     ]
    }
   ],
   "source": [
    "response = es.search(index=\"fakestore\", body=rating_distribution_query)\n",
    "\n",
    "#extract data\n",
    "rating_distribution = [\n",
    "    {\"Rating\": bucket[\"key\"], \"Count\": bucket[\"doc_count\"]}\n",
    "\n",
    "    for bucket in response[\"aggregations\"][\"rating_distribution\"][\"buckets\"]\n",
    "]\n",
    "\n",
    "pprint(rating_distribution)"
   ]
  },
  {
   "cell_type": "code",
   "execution_count": 15,
   "id": "bf7bd12b-5617-498c-901e-e9e14ec586ab",
   "metadata": {},
   "outputs": [
    {
     "name": "stdout",
     "output_type": "stream",
     "text": [
      "\n",
      " Rating Distribution: \n",
      "   Rating  Count\n",
      "0     1.0      1\n",
      "1     2.0      6\n",
      "2     3.0      6\n",
      "3     4.0      7\n"
     ]
    }
   ],
   "source": [
    "# convert to dataframe and display\n",
    "df_rating_dist = pd.DataFrame(rating_distribution)\n",
    "print(\"\\n Rating Distribution: \")\n",
    "print(df_rating_dist)"
   ]
  },
  {
   "cell_type": "code",
   "execution_count": null,
   "id": "3da61a27-f58f-4430-ae55-e0a1ec6fff59",
   "metadata": {},
   "outputs": [],
   "source": []
  }
 ],
 "metadata": {
  "kernelspec": {
   "display_name": "Python (FakeStoreEnv)",
   "language": "python",
   "name": "fakestore_env"
  },
  "language_info": {
   "codemirror_mode": {
    "name": "ipython",
    "version": 3
   },
   "file_extension": ".py",
   "mimetype": "text/x-python",
   "name": "python",
   "nbconvert_exporter": "python",
   "pygments_lexer": "ipython3",
   "version": "3.12.2"
  }
 },
 "nbformat": 4,
 "nbformat_minor": 5
}
