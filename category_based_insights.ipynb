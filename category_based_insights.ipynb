{
 "cells": [
  {
   "cell_type": "code",
   "execution_count": 3,
   "id": "313e20e8-0304-48db-a013-f94884bdddbf",
   "metadata": {},
   "outputs": [
    {
     "name": "stdout",
     "output_type": "stream",
     "text": [
      "{'cluster_name': 'docker-cluster',\n",
      " 'cluster_uuid': 'nv4JrjX8SLeHDApMSiNUPA',\n",
      " 'name': '98617b9485a1',\n",
      " 'tagline': 'You Know, for Search',\n",
      " 'version': {'build_date': '2024-09-02T22:04:47.310170297Z',\n",
      "             'build_flavor': 'default',\n",
      "             'build_hash': '253e8544a65ad44581194068936f2a5d57c2c051',\n",
      "             'build_snapshot': False,\n",
      "             'build_type': 'docker',\n",
      "             'lucene_version': '9.11.1',\n",
      "             'minimum_index_compatibility_version': '7.0.0',\n",
      "             'minimum_wire_compatibility_version': '7.17.0',\n",
      "             'number': '8.15.1'}}\n"
     ]
    }
   ],
   "source": [
    "from elasticsearch import Elasticsearch\n",
    "from pprint import pprint\n",
    "import pandas as pd\n",
    "\n",
    "es = Elasticsearch(\"http://localhost:9200\")\n",
    "client_info = es.info()\n",
    "pprint(client_info.body)"
   ]
  },
  {
   "cell_type": "markdown",
   "id": "d5a01784-cc5b-447e-a735-14146d1b05aa",
   "metadata": {},
   "source": [
    "### 1. Find the category with the highest rated products"
   ]
  },
  {
   "cell_type": "code",
   "execution_count": 7,
   "id": "b81c42b3-8710-4fa9-98e2-d60951ad6193",
   "metadata": {},
   "outputs": [],
   "source": [
    "highest_rated_categry_query = {\n",
    "    \"size\": 0,\n",
    "    \"aggs\": {\n",
    "        \"categories\": {\n",
    "            \"terms\": {\"field\": \"category.keyword\"},\n",
    "            \"aggs\": {\n",
    "                \"avg_rating\": {\"avg\": {\"field\": \"rating\"}}\n",
    "            }\n",
    "        }\n",
    "    }\n",
    "}"
   ]
  },
  {
   "cell_type": "code",
   "execution_count": 9,
   "id": "aa5a27ef-413c-4f8e-98df-4cd3c2e1f3f8",
   "metadata": {},
   "outputs": [
    {
     "name": "stdout",
     "output_type": "stream",
     "text": [
      "\n",
      " Category with Highest Rated Products:\n",
      "{'Category': \"men's clothing\", 'Avg Rating': 3.6999999284744263}\n"
     ]
    }
   ],
   "source": [
    "#execute query\n",
    "response = es.search(index=\"fakestore\", body=highest_rated_categry_query)\n",
    "\n",
    "#Extract Data\n",
    "highest_rated_category = sorted(\n",
    "    [\n",
    "        {\"Category\": bucket[\"key\"], \"Avg Rating\": bucket[\"avg_rating\"][\"value\"]}\n",
    "\n",
    "        for bucket in response[\"aggregations\"][\"categories\"][\"buckets\"]\n",
    "    ],\n",
    "    key = lambda x:x[\"Avg Rating\"], reverse=True\n",
    ")[0]  #Get the highest Rated Category\n",
    "\n",
    "print(\"\\n Category with Highest Rated Products:\")\n",
    "print(highest_rated_category)"
   ]
  },
  {
   "cell_type": "markdown",
   "id": "003c739b-bae4-45e7-b7f2-230dfd29df1e",
   "metadata": {},
   "source": [
    "### 2. Find the category with the most products"
   ]
  },
  {
   "cell_type": "code",
   "execution_count": 14,
   "id": "3c0f8a66-04ae-42e4-b8ec-bd399b43ff1b",
   "metadata": {},
   "outputs": [],
   "source": [
    "# Query to find the category with the most products\n",
    "\n",
    "most_products_category_query = {\n",
    "    \"size\": 0,\n",
    "    \"aggs\": {\n",
    "        \"categories\": {\n",
    "            \"terms\": {\"field\": \"category.keyword\", \"size\": 10}\n",
    "        }\n",
    "    }\n",
    "}"
   ]
  },
  {
   "cell_type": "code",
   "execution_count": 15,
   "id": "f4d1b19f-e0ad-4ded-a3d5-86eaeddc46ad",
   "metadata": {},
   "outputs": [
    {
     "name": "stdout",
     "output_type": "stream",
     "text": [
      "Category with the most products:\n",
      "{'Category': 'electronics', 'Product Count': 6}\n"
     ]
    }
   ],
   "source": [
    "# execute query\n",
    "response = es.search(index=\"fakestore\", body=most_products_category_query)\n",
    "\n",
    "#extract data\n",
    "\n",
    "most_products_category = sorted(\n",
    "    [\n",
    "        {\"Category\": bucket[\"key\"], \"Product Count\": bucket[\"doc_count\"]}\n",
    "\n",
    "        for bucket in response[\"aggregations\"][\"categories\"][\"buckets\"]\n",
    "    ],\n",
    "    key = lambda x:x[\"Product Count\"], reverse=True\n",
    ")[0] # Get the category with the most products\n",
    "\n",
    "print(\"Category with the most products:\")\n",
    "print(most_products_category)"
   ]
  },
  {
   "cell_type": "markdown",
   "id": "2ef989df-8384-499b-8dde-302fa1548416",
   "metadata": {},
   "source": [
    "### 3. Find the Category with the highest Review Count"
   ]
  },
  {
   "cell_type": "code",
   "execution_count": 16,
   "id": "924615b5-fe62-47c9-acad-bf1d206140ec",
   "metadata": {},
   "outputs": [],
   "source": [
    "# Query to find the category with the highest total review count\n",
    "highest_review_count_category_query = {\n",
    "    \"size\": 0,\n",
    "    \"aggs\": {\n",
    "        \"categories\": {\n",
    "            \"terms\": {\"field\": \"category.keyword\"},\n",
    "            \"aggs\": {\n",
    "                \"total_reviews\": {\"sum\": {\"field\": \"reviewCount\"}}\n",
    "            }\n",
    "        }\n",
    "    }\n",
    "}"
   ]
  },
  {
   "cell_type": "code",
   "execution_count": 17,
   "id": "e8d2423f-e63b-4bba-bc8d-a79c0a1aaf1f",
   "metadata": {},
   "outputs": [
    {
     "name": "stdout",
     "output_type": "stream",
     "text": [
      "ObjectApiResponse({'took': 2, 'timed_out': False, '_shards': {'total': 1, 'successful': 1, 'skipped': 0, 'failed': 0}, 'hits': {'total': {'value': 20, 'relation': 'eq'}, 'max_score': None, 'hits': []}, 'aggregations': {'categories': {'doc_count_error_upper_bound': 0, 'sum_other_doc_count': 0, 'buckets': [{'key': 'electronics', 'doc_count': 6, 'total_reviews': {'value': 0.0}}, {'key': \"women's clothing\", 'doc_count': 6, 'total_reviews': {'value': 0.0}}, {'key': 'jewelery', 'doc_count': 4, 'total_reviews': {'value': 0.0}}, {'key': \"men's clothing\", 'doc_count': 4, 'total_reviews': {'value': 0.0}}]}}})\n"
     ]
    }
   ],
   "source": [
    "# Execute query\n",
    "response = es.search(index=\"fakestore\", body=highest_review_count_category_query)\n",
    "\n",
    "pprint(response)"
   ]
  },
  {
   "cell_type": "code",
   "execution_count": 18,
   "id": "4ff382fd-ef0e-4b42-a219-ef63c0296de7",
   "metadata": {},
   "outputs": [
    {
     "name": "stdout",
     "output_type": "stream",
     "text": [
      "Category with the highest review count:\n",
      "{'Category': 'electronics', 'Total Reviews': 0.0}\n"
     ]
    }
   ],
   "source": [
    "# extract data\n",
    "highest_review_category = sorted(\n",
    "    [\n",
    "        {\"Category\": bucket[\"key\"], \"Total Reviews\": bucket[\"total_reviews\"][\"value\"]}\n",
    "\n",
    "        for bucket in response[\"aggregations\"][\"categories\"][\"buckets\"]\n",
    "    ],\n",
    "\n",
    "    key = lambda x:x[\"Total Reviews\"], reverse = True\n",
    ")[0]  #Get the category with the most reviews\n",
    "\n",
    "print(\"Category with the highest review count:\")\n",
    "print(highest_review_category)"
   ]
  },
  {
   "cell_type": "code",
   "execution_count": null,
   "id": "aaf020db-1702-48d7-a6bf-df93841f0153",
   "metadata": {},
   "outputs": [],
   "source": []
  }
 ],
 "metadata": {
  "kernelspec": {
   "display_name": "Python (FakeStoreEnv)",
   "language": "python",
   "name": "fakestore_env"
  },
  "language_info": {
   "codemirror_mode": {
    "name": "ipython",
    "version": 3
   },
   "file_extension": ".py",
   "mimetype": "text/x-python",
   "name": "python",
   "nbconvert_exporter": "python",
   "pygments_lexer": "ipython3",
   "version": "3.12.2"
  }
 },
 "nbformat": 4,
 "nbformat_minor": 5
}
