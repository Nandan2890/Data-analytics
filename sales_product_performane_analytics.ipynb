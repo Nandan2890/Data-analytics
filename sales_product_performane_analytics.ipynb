{
 "cells": [
  {
   "cell_type": "code",
   "execution_count": 1,
   "id": "e1d761db-0935-4a2f-8bc5-c6e7b902da8f",
   "metadata": {},
   "outputs": [
    {
     "name": "stdout",
     "output_type": "stream",
     "text": [
      "Connected to Elasticsearch\n",
      "{'cluster_name': 'docker-cluster',\n",
      " 'cluster_uuid': 'nv4JrjX8SLeHDApMSiNUPA',\n",
      " 'name': '98617b9485a1',\n",
      " 'tagline': 'You Know, for Search',\n",
      " 'version': {'build_date': '2024-09-02T22:04:47.310170297Z',\n",
      "             'build_flavor': 'default',\n",
      "             'build_hash': '253e8544a65ad44581194068936f2a5d57c2c051',\n",
      "             'build_snapshot': False,\n",
      "             'build_type': 'docker',\n",
      "             'lucene_version': '9.11.1',\n",
      "             'minimum_index_compatibility_version': '7.0.0',\n",
      "             'minimum_wire_compatibility_version': '7.17.0',\n",
      "             'number': '8.15.1'}}\n"
     ]
    }
   ],
   "source": [
    "from pprint import pprint\n",
    "from elasticsearch import Elasticsearch\n",
    "\n",
    "es = Elasticsearch(\"http://localhost:9200\")\n",
    "client_info = es.info()\n",
    "print(\"Connected to Elasticsearch\")\n",
    "pprint(client_info.body)"
   ]
  },
  {
   "cell_type": "markdown",
   "id": "3430fca5-1038-4bcf-bb48-04f0c394610f",
   "metadata": {},
   "source": [
    "### Average Price Per Category\n",
    "- ` Find the most expensive and cheapest product categories by calculating the avergae price `"
   ]
  },
  {
   "cell_type": "code",
   "execution_count": 2,
   "id": "b378596e-da4e-43c9-a6d5-f4edda1bd0c8",
   "metadata": {},
   "outputs": [],
   "source": [
    "# average price per category\n",
    "avg_price_query = {\n",
    "    \"size\": 0,\n",
    "    \"aggs\": {\n",
    "        \"avg_price_per_category\": {\n",
    "            \"terms\": {\"field\": \"category.keyword\"},\n",
    "            \"aggs\": {\n",
    "                \"average_price\": {\"avg\": {\"field\": \"price\"}}\n",
    "            }\n",
    "        }\n",
    "    }\n",
    "}"
   ]
  },
  {
   "cell_type": "code",
   "execution_count": 4,
   "id": "0296b8e0-1153-43b9-8e45-30f79a28e3f4",
   "metadata": {},
   "outputs": [
    {
     "name": "stdout",
     "output_type": "stream",
     "text": [
      "[{'average_price': {'value': 332.4983317057292},\n",
      "  'doc_count': 6,\n",
      "  'key': 'electronics'},\n",
      " {'average_price': {'value': 26.286667346954346},\n",
      "  'doc_count': 6,\n",
      "  'key': \"women's clothing\"},\n",
      " {'average_price': {'value': 220.99499988555908},\n",
      "  'doc_count': 4,\n",
      "  'key': 'jewelery'},\n",
      " {'average_price': {'value': 51.057499408721924},\n",
      "  'doc_count': 4,\n",
      "  'key': \"men's clothing\"}]\n"
     ]
    }
   ],
   "source": [
    "response = es.search(index=\"fakestore\", body=avg_price_query)\n",
    "pprint(response[\"aggregations\"][\"avg_price_per_category\"][\"buckets\"])"
   ]
  },
  {
   "cell_type": "markdown",
   "id": "58a4a538-ce21-472f-845c-7dc1136c9710",
   "metadata": {},
   "source": [
    "### Top rated products\n",
    "- ` Find the products with the highest ratings `"
   ]
  },
  {
   "cell_type": "code",
   "execution_count": 5,
   "id": "04bf337e-e482-488c-9db3-b5d90c80d685",
   "metadata": {},
   "outputs": [],
   "source": [
    "top_rated_query = {\n",
    "    \"size\": 5,\n",
    "    \"query\": {\n",
    "        \"exists\": {\"field\": \"rating\"}\n",
    "    },\n",
    "    \"sort\": [{\"rating\": {\"order\": \"desc\"}}]\n",
    "}"
   ]
  },
  {
   "cell_type": "code",
   "execution_count": 6,
   "id": "f1b13308-c0bc-4195-968e-9116a5d7ddd0",
   "metadata": {},
   "outputs": [
    {
     "name": "stdout",
     "output_type": "stream",
     "text": [
      "[{'_id': 'OBMbyJUBmMXztNkVHsU5',\n",
      "  '_ignored': ['description.keyword'],\n",
      "  '_index': 'fakestore',\n",
      "  '_score': None,\n",
      "  '_source': {'category': 'electronics',\n",
      "              'description': '3D NAND flash are applied to deliver high '\n",
      "                             'transfer speeds Remarkable transfer speeds that '\n",
      "                             'enable faster bootup and improved overall system '\n",
      "                             'performance. The advanced SLC Cache Technology '\n",
      "                             'allows performance boost and longer lifespan 7mm '\n",
      "                             'slim design suitable for Ultrabooks and '\n",
      "                             'Ultra-slim notebooks. Supports TRIM command, '\n",
      "                             'Garbage Collection technology, RAID, and ECC '\n",
      "                             '(Error Checking & Correction) to provide the '\n",
      "                             'optimized performance and enhanced reliability.',\n",
      "              'id': 11,\n",
      "              'image': 'https://fakestoreapi.com/img/71kWymZ+c+L._AC_SX679_.jpg',\n",
      "              'price': 109,\n",
      "              'rating': 4.8,\n",
      "              'review_count': 319,\n",
      "              'title': 'Silicon Power 256GB SSD 3D NAND A55 SLC Cache '\n",
      "                       'Performance Boost SATA III 2.5'},\n",
      "  'sort': [4.8]},\n",
      " {'_id': 'ORMbyJUBmMXztNkVHsVL',\n",
      "  '_index': 'fakestore',\n",
      "  '_score': None,\n",
      "  '_source': {'category': 'electronics',\n",
      "              'description': 'Expand your PS4 gaming experience, Play anywhere '\n",
      "                             'Fast and easy, setup Sleek design with high '\n",
      "                             \"capacity, 3-year manufacturer's limited warranty\",\n",
      "              'id': 12,\n",
      "              'image': 'https://fakestoreapi.com/img/61mtL65D4cL._AC_SX679_.jpg',\n",
      "              'price': 114,\n",
      "              'rating': 4.8,\n",
      "              'review_count': 400,\n",
      "              'title': 'WD 4TB Gaming Drive Works with Playstation 4 Portable '\n",
      "                       'External Hard Drive'},\n",
      "  'sort': [4.8]},\n",
      " {'_id': 'MBMbyJUBmMXztNkVHcW2',\n",
      "  '_ignored': ['description.keyword'],\n",
      "  '_index': 'fakestore',\n",
      "  '_score': None,\n",
      "  '_source': {'category': \"men's clothing\",\n",
      "              'description': 'great outerwear jackets for '\n",
      "                             'Spring/Autumn/Winter, suitable for many '\n",
      "                             'occasions, such as working, hiking, camping, '\n",
      "                             'mountain/rock climbing, cycling, traveling or '\n",
      "                             'other outdoors. Good gift choice for you or your '\n",
      "                             'family member. A warm hearted love to Father, '\n",
      "                             'husband or son in this thanksgiving or Christmas '\n",
      "                             'Day.',\n",
      "              'id': 3,\n",
      "              'image': 'https://fakestoreapi.com/img/71li-ujtlUL._AC_UX679_.jpg',\n",
      "              'price': 55.99,\n",
      "              'rating': 4.7,\n",
      "              'review_count': 500,\n",
      "              'title': 'Mens Cotton Jacket'},\n",
      "  'sort': [4.7]},\n",
      " {'_id': 'PxMbyJUBmMXztNkVHsXJ',\n",
      "  '_index': 'fakestore',\n",
      "  '_score': None,\n",
      "  '_source': {'category': \"women's clothing\",\n",
      "              'description': '95% RAYON 5% SPANDEX, Made in USA or Imported, '\n",
      "                             'Do Not Bleach, Lightweight fabric with great '\n",
      "                             'stretch for comfort, Ribbed on sleeves and '\n",
      "                             'neckline / Double stitching on bottom hem',\n",
      "              'id': 18,\n",
      "              'image': 'https://fakestoreapi.com/img/71z3kpMAYsL._AC_UY879_.jpg',\n",
      "              'price': 9.85,\n",
      "              'rating': 4.7,\n",
      "              'review_count': 130,\n",
      "              'title': \"MBJ Women's Solid Short Sleeve Boat Neck V \"},\n",
      "  'sort': [4.7]},\n",
      " {'_id': 'MhMbyJUBmMXztNkVHcXk',\n",
      "  '_index': 'fakestore',\n",
      "  '_score': None,\n",
      "  '_source': {'category': 'jewelery',\n",
      "              'description': 'From our Legends Collection, the Naga was '\n",
      "                             'inspired by the mythical water dragon that '\n",
      "                             \"protects the ocean's pearl. Wear facing inward \"\n",
      "                             'to be bestowed with love and abundance, or '\n",
      "                             'outward for protection.',\n",
      "              'id': 5,\n",
      "              'image': 'https://fakestoreapi.com/img/71pWzhdJNwL._AC_UL640_QL65_ML3_.jpg',\n",
      "              'price': 695,\n",
      "              'rating': 4.6,\n",
      "              'review_count': 400,\n",
      "              'title': \"John Hardy Women's Legends Naga Gold & Silver Dragon \"\n",
      "                       'Station Chain Bracelet'},\n",
      "  'sort': [4.6]}]\n"
     ]
    }
   ],
   "source": [
    "response = es.search(index=\"fakestore\", body=top_rated_query)\n",
    "pprint(response[\"hits\"][\"hits\"])"
   ]
  },
  {
   "cell_type": "markdown",
   "id": "b9c55fcb-3be9-454d-895b-ec63ea6af90c",
   "metadata": {},
   "source": [
    "### Total ratings Count per Category\n",
    "- ` Measure Customer engagement by counting total reviews per category `"
   ]
  },
  {
   "cell_type": "code",
   "execution_count": 9,
   "id": "88ba386c-6681-43a1-ac8d-f72afbd97b52",
   "metadata": {},
   "outputs": [],
   "source": [
    "rating_count_query = {\n",
    "    \"size\": 0,\n",
    "    \"aggs\": {\n",
    "        \"total_ratings_per_category\": {\n",
    "            \"terms\": {\"field\": \"category.keyword\"},\n",
    "            \"aggs\": {\n",
    "                \"total_reviews\": {\"sum\": {\"field\": \"review_count\"}}\n",
    "            }\n",
    "        }\n",
    "    }\n",
    "}"
   ]
  },
  {
   "cell_type": "code",
   "execution_count": 10,
   "id": "d229359e-cdb4-4023-b855-7bfe9ac8b5c1",
   "metadata": {},
   "outputs": [
    {
     "name": "stdout",
     "output_type": "stream",
     "text": [
      "[{'doc_count': 6, 'key': 'electronics', 'total_reviews': {'value': 1782.0}},\n",
      " {'doc_count': 6,\n",
      "  'key': \"women's clothing\",\n",
      "  'total_reviews': {'value': 1675.0}},\n",
      " {'doc_count': 4, 'key': 'jewelery', 'total_reviews': {'value': 970.0}},\n",
      " {'doc_count': 4, 'key': \"men's clothing\", 'total_reviews': {'value': 1309.0}}]\n"
     ]
    }
   ],
   "source": [
    "response = es.search(index=\"fakestore\", body=rating_count_query)\n",
    "pprint(response[\"aggregations\"][\"total_ratings_per_category\"][\"buckets\"])"
   ]
  },
  {
   "cell_type": "markdown",
   "id": "0cd1dcc7-647a-4f30-bffb-bd52aa8a024b",
   "metadata": {},
   "source": [
    "## Count of Products by category\n",
    "- ` Find out how many products exist in each category ` "
   ]
  },
  {
   "cell_type": "code",
   "execution_count": 16,
   "id": "f6e9491c-e5a5-406d-b614-a3ba1a025f72",
   "metadata": {},
   "outputs": [],
   "source": [
    "product_count_query = {\n",
    "    \"size\": 0,\n",
    "    \"aggs\": {\n",
    "        \"products_per_category\": {\n",
    "            \"terms\": {\"field\": \"category.keyword\"}\n",
    "        }\n",
    "    }\n",
    "}"
   ]
  },
  {
   "cell_type": "code",
   "execution_count": 17,
   "id": "a8f583ac-a1d3-40ab-8119-21cdc74a8a9a",
   "metadata": {},
   "outputs": [
    {
     "name": "stdout",
     "output_type": "stream",
     "text": [
      "[{'doc_count': 6, 'key': 'electronics'},\n",
      " {'doc_count': 6, 'key': \"women's clothing\"},\n",
      " {'doc_count': 4, 'key': 'jewelery'},\n",
      " {'doc_count': 4, 'key': \"men's clothing\"}]\n"
     ]
    }
   ],
   "source": [
    "response = es.search(index=\"fakestore\", body=product_count_query)\n",
    "pprint(response[\"aggregations\"][\"products_per_category\"][\"buckets\"])"
   ]
  },
  {
   "cell_type": "code",
   "execution_count": null,
   "id": "1dfd00f5-3b07-445b-95ea-64b1007d4ffc",
   "metadata": {},
   "outputs": [],
   "source": []
  }
 ],
 "metadata": {
  "kernelspec": {
   "display_name": "Python (env)",
   "language": "python",
   "name": "env"
  },
  "language_info": {
   "codemirror_mode": {
    "name": "ipython",
    "version": 3
   },
   "file_extension": ".py",
   "mimetype": "text/x-python",
   "name": "python",
   "nbconvert_exporter": "python",
   "pygments_lexer": "ipython3",
   "version": "3.12.2"
  }
 },
 "nbformat": 4,
 "nbformat_minor": 5
}
